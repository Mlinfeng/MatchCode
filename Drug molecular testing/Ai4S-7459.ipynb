{
  "nbformat": 4,
  "nbformat_minor": 0,
  "metadata": {
    "colab": {
      "provenance": []
    },
    "kernelspec": {
      "name": "python3",
      "display_name": "Python 3"
    },
    "language_info": {
      "name": "python"
    }
  },
  "cells": [
    {
      "cell_type": "code",
      "execution_count": 81,
      "metadata": {
        "id": "rp2qOOPUQNut"
      },
      "outputs": [],
      "source": [
        "!pip install lightgbm numpy pandas rdkit scikit-learn #在终端用pip(不用写感叹号)下载lightgbm库、numpy库、pandas库、rdkit库、scikit-learn库"
      ]
    },
    {
      "cell_type": "code",
      "source": [
        "import lightgbm as lgb  # 导入机器学习模型LightGBM\n",
        "import numpy as np  # 导入数值计算库NumPy\n",
        "import pandas as pd  # 导入数据处理库Pandas\n",
        "\n",
        "from rdkit import Chem  # 导入RDKit中的Chem模块，用于分子对象转换\n",
        "from rdkit.Chem.rdMolDescriptors import GetMorganFingerprintAsBitVect  # 从RDKit中导入GetMorganFingerprintAsBitVect函数，用于生成分子指纹（位向量转换）\n",
        "\n",
        "from sklearn.model_selection import train_test_split  # 从scikit-learn中导入train_test_split函数，用于拆分数据集\n",
        "from sklearn.metrics import fbeta_score  # 从scikit-learn中导入fbeta_score函数，用于 F2 Score 计算"
      ],
      "metadata": {
        "id": "b8ztFuxyQ580"
      },
      "execution_count": 82,
      "outputs": []
    },
    {
      "cell_type": "code",
      "source": [
        "DATA_PATH = \"data/\"  # 数据路径\n",
        "\n",
        "raw_data = pd.read_csv(f\"{DATA_PATH}/mol_train.csv\")  # 读入训练数据\n",
        "test_data = pd.read_csv(f\"{DATA_PATH}/mol_test.csv\")  # 读入测试数据\n",
        "\n",
        "# 拆分训练数据为训练集与验证集，验证集占比 20%，设定固定随机种子\n",
        "train_data, valid_data = train_test_split(\n",
        "    raw_data, test_size=0.2, random_state=hash(\"Datawhale\") % 2023\n",
        ")"
      ],
      "metadata": {
        "id": "Je20b-DwQ8-X"
      },
      "execution_count": 83,
      "outputs": []
    },
    {
      "cell_type": "code",
      "source": [
        "def smile2fingerprint(smile: str):\n",
        "    \"\"\"将 SMILE 分子式表示为指纹数据\n",
        "\n",
        "    参数:\n",
        "        smile (string): SMILE 分子式\n",
        "\n",
        "    返回:\n",
        "        fp (Explict BitVect): 分子式的 Morgan 指纹位向量\n",
        "    \"\"\"\n",
        "    molecular = Chem.MolFromSmiles(smile)  # 将字符串转换为分子式对象\n",
        "    finger_print = GetMorganFingerprintAsBitVect(molecular, 2, nBits=1024)  # 获得分子式的 Morgan 指纹位向量\n",
        "    return finger_print"
      ],
      "metadata": {
        "id": "YYgh8tPkRohE"
      },
      "execution_count": 84,
      "outputs": []
    },
    {
      "cell_type": "code",
      "source": [
        "# 批量将位向量转换为特征矩阵，形状为 (n, 1024)，n 代表数据个数，1024 在位向量转换时指定\n",
        "train_X = np.array([smile2fingerprint(smile) for smile in train_data[\"SMILES\"]])\n",
        "valid_X = np.array([smile2fingerprint(smile) for smile in valid_data[\"SMILES\"]])\n",
        "test_X = np.array([smile2fingerprint(smile) for smile in test_data[\"SMILES\"]])"
      ],
      "metadata": {
        "id": "jcZtE3i2RuS7"
      },
      "execution_count": 85,
      "outputs": []
    },
    {
      "cell_type": "code",
      "source": [
        "# 将数据特征矩阵转换为 LightGBM 指定格式，(特征向量，对应标签)\n",
        "lgb_train = lgb.Dataset(train_X, label=train_data[\"TARGET\"])\n",
        "lgb_valid = lgb.Dataset(valid_X, label=valid_data[\"TARGET\"])"
      ],
      "metadata": {
        "id": "49fTyoPURwmC"
      },
      "execution_count": 86,
      "outputs": []
    },
    {
      "cell_type": "markdown",
      "source": [
        "**模型训练**"
      ],
      "metadata": {
        "id": "VdNwBpWOR5aK"
      }
    },
    {
      "cell_type": "code",
      "source": [
        "# 设定 LightGBM 训练参，查阅参数意义：https://lightgbm.readthedocs.io/en/latest/Parameters.html\n",
        "lgb_params = {\n",
        "    \"objective\": \"binary\",  # 指定任务类别为二分类\n",
        "    \"seed\": hash(\"Datawhale\") % 2023,  # 设定随机种子\n",
        "    \"verbose\": -1,  # 禁用输出（可选）\n",
        "}\n",
        "\n",
        "# 训练模型，参数依次为：导入模型设定参数、导入训练集、设定模型迭代次数（100）、导入验证集\n",
        "model = lgb.train(lgb_params, lgb_train, num_boost_round=300, valid_sets=lgb_valid)"
      ],
      "metadata": {
        "id": "wL3E2v1gRzPA"
      },
      "execution_count": 87,
      "outputs": []
    },
    {
      "cell_type": "code",
      "source": [
        "threshold = 0.4 # 模型输出的是类别概率，设定概率的判断阙值"
      ],
      "metadata": {
        "id": "PnzFuGnJR_qy"
      },
      "execution_count": 88,
      "outputs": []
    },
    {
      "cell_type": "code",
      "source": [
        "# 用验证集进行模型预测（选择训练中最好的一次）\n",
        "valid_pred = model.predict(valid_X, num_iteration=model.best_iteration)\n",
        "# 生成预测标签结果，如果概率大于阈值则为 1，否则为 0\n",
        "valid_result = [1 if x > threshold else 0 for x in valid_pred]\n",
        "# 计算验证集 F2 Score 分数\n",
        "valid_score = fbeta_score(valid_data[\"TARGET\"], valid_result, beta=2)\n",
        "print(f\"Valid Score: {valid_score}\")"
      ],
      "metadata": {
        "colab": {
          "base_uri": "https://localhost:8080/"
        },
        "id": "9nDl3Op3SAc9",
        "outputId": "a677392f-80df-432a-9f9e-5e778747bdab"
      },
      "execution_count": 89,
      "outputs": [
        {
          "output_type": "stream",
          "name": "stdout",
          "text": [
            "Valid Score: 0.745967741935484\n"
          ]
        }
      ]
    },
    {
      "cell_type": "code",
      "source": [
        "# 预测测试集数据并获得预测结果\n",
        "pred = model.predict(test_X, num_iteration=model.best_iteration)\n",
        "result = [1 if x > threshold else 0 for x in pred]"
      ],
      "metadata": {
        "id": "rEMcg3gSSFdA"
      },
      "execution_count": 90,
      "outputs": []
    },
    {
      "cell_type": "code",
      "source": [
        "submission = pd.DataFrame()  # 创建预测结果 DataFrame\n",
        "submission[\"SMILES\"] = test_data[\"SMILES\"]  # 复制对应的 SMILES 内容\n",
        "submission[\"TARGET\"] = result  # 填写预测标签结果\n",
        "submission.to_csv(\"./submission.csv\", index=False)  # 保存最后的预测结果到 submission.csv"
      ],
      "metadata": {
        "id": "Z7jQRsfPSF98"
      },
      "execution_count": 91,
      "outputs": []
    }
  ]
}