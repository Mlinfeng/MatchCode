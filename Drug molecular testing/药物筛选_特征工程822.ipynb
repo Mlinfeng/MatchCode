{
  "cells": [
    {
      "cell_type": "code",
      "execution_count": 10,
      "id": "2d6a99d3",
      "metadata": {
        "colab": {
          "base_uri": "https://localhost:8080/"
        },
        "id": "2d6a99d3",
        "outputId": "98a89ad9-5241-41ae-cf45-3524dd1b582c"
      },
      "outputs": [
        {
          "output_type": "stream",
          "name": "stdout",
          "text": [
            "Requirement already satisfied: lightgbm in /usr/local/lib/python3.10/dist-packages (4.1.0)\n",
            "Requirement already satisfied: numpy in /usr/local/lib/python3.10/dist-packages (1.23.5)\n",
            "Requirement already satisfied: pandas in /usr/local/lib/python3.10/dist-packages (1.5.3)\n",
            "Collecting rdkit\n",
            "  Downloading rdkit-2023.9.1-cp310-cp310-manylinux_2_17_x86_64.manylinux2014_x86_64.whl (30.5 MB)\n",
            "\u001b[2K     \u001b[90m━━━━━━━━━━━━━━━━━━━━━━━━━━━━━━━━━━━━━━━━\u001b[0m \u001b[32m30.5/30.5 MB\u001b[0m \u001b[31m51.8 MB/s\u001b[0m eta \u001b[36m0:00:00\u001b[0m\n",
            "\u001b[?25hRequirement already satisfied: scikit-learn in /usr/local/lib/python3.10/dist-packages (1.2.2)\n",
            "Requirement already satisfied: scipy in /usr/local/lib/python3.10/dist-packages (from lightgbm) (1.11.3)\n",
            "Requirement already satisfied: python-dateutil>=2.8.1 in /usr/local/lib/python3.10/dist-packages (from pandas) (2.8.2)\n",
            "Requirement already satisfied: pytz>=2020.1 in /usr/local/lib/python3.10/dist-packages (from pandas) (2023.3.post1)\n",
            "Requirement already satisfied: Pillow in /usr/local/lib/python3.10/dist-packages (from rdkit) (9.4.0)\n",
            "Requirement already satisfied: joblib>=1.1.1 in /usr/local/lib/python3.10/dist-packages (from scikit-learn) (1.3.2)\n",
            "Requirement already satisfied: threadpoolctl>=2.0.0 in /usr/local/lib/python3.10/dist-packages (from scikit-learn) (3.2.0)\n",
            "Requirement already satisfied: six>=1.5 in /usr/local/lib/python3.10/dist-packages (from python-dateutil>=2.8.1->pandas) (1.16.0)\n",
            "Installing collected packages: rdkit\n",
            "Successfully installed rdkit-2023.9.1\n"
          ]
        }
      ],
      "source": [
        "!pip install lightgbm numpy pandas rdkit scikit-learn #在终端用pip(不用写感叹号)下载lightgbm库、numpy库、pandas库、rdkit库、scikit-learn库"
      ]
    },
    {
      "cell_type": "code",
      "source": [
        "import pandas as pd\n",
        "from rdkit import Chem\n",
        "from rdkit.Chem import Descriptors\n",
        "from sklearn.model_selection import train_test_split\n",
        "from sklearn.ensemble import RandomForestClassifier\n",
        "from sklearn.metrics import fbeta_score\n",
        "import numpy as np\n",
        "import matplotlib.pyplot as plt\n",
        "import os\n",
        "\n",
        "# 读取数据\n",
        "DATA_PATH=\"data\"\n",
        "data = pd.read_csv(f\"{DATA_PATH}/mol_train.csv\")\n",
        "features = data['SMILES']\n",
        "labels = data['TARGET']\n",
        "\n",
        "# 定义计算1D-QSAR特征的函数\n",
        "def calculate_1dqsar_repr(smiles):\n",
        "    mol = Chem.MolFromSmiles(smiles)\n",
        "    mol_weight = Descriptors.MolWt(mol)  # 计算分子的分子量\n",
        "    log_p = Descriptors.MolLogP(mol)  # 计算分子的LogP值\n",
        "    num_h_donors = Descriptors.NumHDonors(mol)  # 计算分子中的氢键供体数量\n",
        "    num_h_acceptors = Descriptors.NumHAcceptors(mol)  # 计算分子中的氢键受体数量\n",
        "    tpsa = Descriptors.TPSA(mol)  # 计算分子的表面积极性\n",
        "    num_rotatable_bonds = Descriptors.NumRotatableBonds(mol)  # 计算分子中的可旋转键数量\n",
        "    num_aromatic_rings = Descriptors.NumAromaticRings(mol)  # 计算分子中的芳香环数量\n",
        "    num_aliphatic_rings = Descriptors.NumAliphaticRings(mol)  # 计算分子中的脂环数量\n",
        "    num_saturated_rings = Descriptors.NumSaturatedRings(mol)  # 计算分子中的饱和环数量\n",
        "    num_heteroatoms = Descriptors.NumHeteroatoms(mol)  # 计算分子中的杂原子数量\n",
        "    num_valence_electrons = Descriptors.NumValenceElectrons(mol)  # 计算分子中的价电子数量\n",
        "    num_radical_electrons = Descriptors.NumRadicalElectrons(mol)  # 计算分子中的自由基电子数量\n",
        "    num_polar_hydrogens = Descriptors.NumHAcceptors(mol)  # 计算极性氢原子数量\n",
        "    # 计算N原子的数量\n",
        "    count_n = 0\n",
        "    for atom in mol.GetAtoms():\n",
        "        atomic_num = atom.GetAtomicNum()\n",
        "        if atomic_num == 7:  # 7代表氮原子的原子序数\n",
        "            count_n += 1\n",
        "\n",
        "    # 返回特征及其简写名称\n",
        "    feature_names = ['mw', 'log_p', 'nhd', 'nha', 'tpsa', 'nrb',\n",
        "                     'nar', 'nalr', 'nsr', 'nh',\n",
        "                     'nve', 'nre', 'count_n', 'nph']\n",
        "    features_repr = [mol_weight, log_p, num_h_donors, num_h_acceptors, tpsa, num_rotatable_bonds,\n",
        "                     num_aromatic_rings, num_aliphatic_rings, num_saturated_rings, num_heteroatoms,\n",
        "                     num_valence_electrons, num_radical_electrons, count_n, num_polar_hydrogens]\n",
        "    return feature_names, features_repr\n",
        "# 初始化特征列表\n",
        "all_features = []\n",
        "\n",
        "# 计算1D-QSAR特征\n",
        "for smiles in features:\n",
        "    feature_names, features_repr = calculate_1dqsar_repr(smiles)  # 调用计算函数获取特征及其名称\n",
        "    all_features.append(features_repr)  # 将特征添加到特征列表\n",
        "\n",
        "# 将特征数据和标签数据拆分为训练集和测试集\n",
        "X_train, X_test, y_train, y_test = train_test_split(all_features, labels, test_size=0.2, random_state=42)\n",
        "\n",
        "# 创建随机森林分类器\n",
        "clf = RandomForestClassifier()\n",
        "\n",
        "# 在训练集上拟合模型\n",
        "clf.fit(X_train, y_train)\n",
        "\n",
        "# 在测试集上进行预测\n",
        "y_pred = clf.predict(X_test)\n",
        "\n",
        "# 提取特征重要性\n",
        "importances = clf.feature_importances_\n",
        "\n",
        "# 可视化特征重要性\n",
        "# X_train = np.array(X_train)\n",
        "# indices = np.argsort(importances)[::-1]  # 特征重要性排序的索引\n",
        "\n",
        "# plt.figure()\n",
        "# plt.title(\"Feature Importance\")\n",
        "# plt.bar(range(X_train.shape[1]), importances[indices], align=\"center\")\n",
        "# plt.xticks(range(X_train.shape[1]), [feature_names[i] for i in indices])\n",
        "# plt.xlabel(\"Feature\")\n",
        "# plt.ylabel(\"Importance\")\n",
        "# plt.show()\n",
        "\n",
        "# 计算f2-score\n",
        "f2_score = fbeta_score(y_test, y_pred, beta=2)\n",
        "\n",
        "print(\"F2-score: \", f2_score)"
      ],
      "metadata": {
        "colab": {
          "base_uri": "https://localhost:8080/"
        },
        "id": "kUwSfskBWLR0",
        "outputId": "860016c5-d129-48ba-9160-711b4bca1ff0"
      },
      "id": "kUwSfskBWLR0",
      "execution_count": 26,
      "outputs": [
        {
          "output_type": "stream",
          "name": "stdout",
          "text": [
            "F2-score:  0.8222222222222222\n"
          ]
        }
      ]
    }
  ],
  "metadata": {
    "jupytext": {
      "cell_metadata_filter": "-all",
      "encoding": "# coding: utf-8",
      "executable": "/usr/bin/env python",
      "main_language": "python",
      "notebook_metadata_filter": "-all"
    },
    "colab": {
      "provenance": []
    },
    "language_info": {
      "name": "python"
    },
    "kernelspec": {
      "name": "python3",
      "display_name": "Python 3"
    }
  },
  "nbformat": 4,
  "nbformat_minor": 5
}